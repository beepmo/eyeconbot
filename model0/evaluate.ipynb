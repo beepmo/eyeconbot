{
  "nbformat": 4,
  "nbformat_minor": 0,
  "metadata": {
    "colab": {
      "provenance": [],
      "gpuType": "T4",
      "include_colab_link": true
    },
    "kernelspec": {
      "name": "python3",
      "display_name": "Python 3"
    },
    "language_info": {
      "name": "python"
    },
    "accelerator": "GPU"
  },
  "cells": [
    {
      "cell_type": "markdown",
      "metadata": {
        "id": "view-in-github",
        "colab_type": "text"
      },
      "source": [
        "<a href=\"https://colab.research.google.com/github/beepmo/MSP430-microprocessor/blob/main/model0/evaluate.ipynb\" target=\"_parent\"><img src=\"https://colab.research.google.com/assets/colab-badge.svg\" alt=\"Open In Colab\"/></a>"
      ]
    },
    {
      "cell_type": "code",
      "source": [
        "import os\n",
        "from tqdm import tqdm\n",
        "import re\n",
        "from keras.preprocessing.image import img_to_array # TODO don't use keras\n",
        "import cv2 as cv\n",
        "import matplotlib.pyplot as plt\n",
        "import numpy as np\n",
        "\n",
        "import torch\n",
        "import torch.nn as nn\n",
        "import torch.optim as optim\n",
        "import random\n",
        "\n"
      ],
      "metadata": {
        "id": "N-_96eljZSnh"
      },
      "execution_count": 3,
      "outputs": []
    },
    {
      "cell_type": "markdown",
      "source": [
        "# 2. Preprocess data\n",
        "\n",
        "Datasets:\n",
        "- `smallset_onesize` [DEPRECATED - DO NOT USE]\n",
        "  - Downloaded as is, [here](https://www.kaggle.com/datasets/theblackmamba31/landscape-image-colorization).\n",
        "  - 7130 color/gray pairs\n",
        "  - Res 150x150\n",
        "  - 0.232GB\n",
        "- `largeset_multisize` [USE THIS ONE]\n",
        "  - Stored in Github repo, made from combination of other datasets. Dataset construction code in repo too\n",
        "  - 18329 color/gray pairs. (actually 18328 - had to delete photo 2507 due to strange resolution issues)\n",
        "  - Res 128x128 (grayscale images also available in 64x64, 32x32, 16x16)\n",
        "  - 401 MB\n",
        "\n"
      ],
      "metadata": {
        "id": "y1rkmEoxY0bM"
      }
    },
    {
      "cell_type": "code",
      "source": [
        "\n",
        "\n",
        "''' Returns an array containing all images in folder, sorted by filename. Useful for color/gray/downsize versions in different folders with same filename.\n",
        "@param path - directory with images\n",
        "@return\n",
        "'''\n",
        "def make_image_arr(path):\n",
        "\n",
        "  def sorted_alphanumeric(data):\n",
        "    convert = lambda text: int(text) if text.isdigit() else text.lower()\n",
        "    alphanum_key = lambda key: [convert(c) for c in re.split('([0-9]+)',key)]\n",
        "    return sorted(data,key = alphanum_key)\n",
        "\n",
        "  files = os.listdir(path)\n",
        "  files = sorted_alphanumeric(files)\n",
        "\n",
        "  arr = []\n",
        "  for i in tqdm(files):\n",
        "    img = cv.imread(path + '/'+i,1)\n",
        "    img = img.astype('float32') / 255\n",
        "    arr.append(img_to_array(img))\n",
        "\n",
        "  return arr\n"
      ],
      "metadata": {
        "id": "nmb6y7FQUO24"
      },
      "execution_count": null,
      "outputs": []
    },
    {
      "cell_type": "code",
      "source": [
        "color_arr = make_image_arr('/content/CPSC-440-Project/datasets/largeset_multisize/color')"
      ],
      "metadata": {
        "id": "nbS2bT3vXKJc",
        "outputId": "7019e5a4-48c0-4a6a-fc8d-2edb76b41736",
        "colab": {
          "base_uri": "https://localhost:8080/"
        }
      },
      "execution_count": null,
      "outputs": [
        {
          "output_type": "stream",
          "name": "stderr",
          "text": [
            "100%|██████████| 18328/18328 [00:08<00:00, 2246.49it/s]\n"
          ]
        }
      ]
    },
    {
      "cell_type": "code",
      "source": [
        "gray_arr = make_image_arr('/content/CPSC-440-Project/datasets/largeset_multisize/gray')"
      ],
      "metadata": {
        "id": "qw2f7e7PZpBi",
        "outputId": "d7ef4f63-3894-4393-dc44-d219f3ac5f3f",
        "colab": {
          "base_uri": "https://localhost:8080/"
        }
      },
      "execution_count": null,
      "outputs": [
        {
          "output_type": "stream",
          "name": "stderr",
          "text": [
            "100%|██████████| 18328/18328 [00:07<00:00, 2564.89it/s]\n"
          ]
        }
      ]
    },
    {
      "cell_type": "code",
      "source": [
        "# Make a tensor list of reformatted images (based on Stuarts's axis swap)\n",
        "gray_tensors = []\n",
        "\n",
        "for image in gray_arr:\n",
        "    # Convert each image to a PyTorch tensor\n",
        "    t = torch.from_numpy(np.moveaxis(image, [2, 1], [0, 2]))\n",
        "    gray_tensors.append(t)\n",
        "\n",
        "color_tensors = []\n",
        "\n",
        "for image in color_arr:\n",
        "    # Convert each image to a PyTorch tensor\n",
        "    t = torch.from_numpy(np.moveaxis(image, [2, 1], [0, 2]))\n",
        "    color_tensors.append(t)"
      ],
      "metadata": {
        "id": "-oP-qMDO6Yt0"
      },
      "execution_count": null,
      "outputs": []
    },
    {
      "cell_type": "markdown",
      "source": [
        "# 3. Model\n",
        "Toy model generated below:"
      ],
      "metadata": {
        "id": "WnA0Wvam63vM"
      }
    },
    {
      "cell_type": "code",
      "execution_count": 4,
      "metadata": {
        "id": "kL2B0zg4cEoR"
      },
      "outputs": [],
      "source": [
        "# prompt: pytorch colourization autoencoder\n",
        "\n",
        "class Autoencoder(nn.Module):\n",
        "    def __init__(self):\n",
        "        super(Autoencoder, self).__init__()\n",
        "        # Encoder\n",
        "        self.encoder = nn.Sequential(\n",
        "            nn.Conv2d(3, 16, 3, padding=1),\n",
        "            nn.ReLU(),\n",
        "            nn.MaxPool2d(2, 2),\n",
        "            nn.Conv2d(16, 32, 3, padding=1),\n",
        "            nn.ReLU(),\n",
        "            nn.MaxPool2d(2, 2),\n",
        "            nn.Conv2d(32, 64, 3, padding=1),\n",
        "            nn.ReLU(),\n",
        "            nn.MaxPool2d(2, 2),\n",
        "        )\n",
        "        # Decoder\n",
        "        self.decoder = nn.Sequential(\n",
        "            nn.ConvTranspose2d(64, 32, 3, stride=2, padding=1, output_padding=1),\n",
        "            nn.ReLU(),\n",
        "            nn.ConvTranspose2d(32, 16, 3, stride=2, padding=1, output_padding=1),\n",
        "            nn.ReLU(),\n",
        "            nn.ConvTranspose2d(16, 3, 3, stride=2, padding=1, output_padding=1),\n",
        "            nn.Sigmoid(),\n",
        "        )\n",
        "    def forward(self, x):\n",
        "        encoded = self.encoder(x)\n",
        "        decoded = self.decoder(encoded)\n",
        "        return decoded\n",
        "\n",
        "# Create the autoencoder\n",
        "autoencoder = Autoencoder()\n",
        "\n"
      ]
    },
    {
      "cell_type": "code",
      "source": [
        "autoencoder.decoder = torch.load('/content/CPSC-440-Project/model0/decoder_weights')"
      ],
      "metadata": {
        "id": "QYBuhq2rtiLN"
      },
      "execution_count": 5,
      "outputs": []
    },
    {
      "cell_type": "code",
      "source": [
        "autoencoder.encoder = torch.load('/content/CPSC-440-Project/model0/encoder_weights')"
      ],
      "metadata": {
        "id": "nf7tNPL4SsG4"
      },
      "execution_count": 6,
      "outputs": []
    },
    {
      "cell_type": "markdown",
      "source": [
        "# Evaluate model\n",
        "\n"
      ],
      "metadata": {
        "id": "CHI0xngmMSaz"
      }
    },
    {
      "cell_type": "code",
      "source": [
        "rand_index = random.randint(0, 18000)\n",
        "\n",
        "image_bw = gray_arr[rand_index]\n",
        "image_c = color_arr[rand_index]\n",
        "\n",
        "# Colorize the image\n",
        "t = torch.from_numpy(np.moveaxis(image_bw, [2, 1], [0,2]))\n",
        "colorized_image = autoencoder(t)\n",
        "colorized_image_format = np.moveaxis(colorized_image.detach().numpy(), [1,2], [0,1])\n",
        "\n",
        "# Compute loss\n",
        "criterion = nn.MSELoss()\n",
        "loss = criterion(colorized_image, image_c)\n",
        "print(loss)\n",
        "\n",
        "plt.subplot(1,3,1)\n",
        "plt.imshow(image_c)\n",
        "plt.subplot(1,3,2)\n",
        "plt.imshow(image_bw)\n",
        "plt.subplot(1,3,3)\n",
        "plt.imshow(colorized_image_format)\n",
        "plt.show()\n",
        "\n",
        "# LEFT TO RIGHT: ORIGINAL, GRAYSCALE, COLORIZED"
      ],
      "metadata": {
        "id": "dZ4gAEMvMqcp"
      },
      "execution_count": null,
      "outputs": []
    },
    {
      "cell_type": "code",
      "source": [],
      "metadata": {
        "id": "uXoRRDnSM1MU"
      },
      "execution_count": null,
      "outputs": []
    },
    {
      "cell_type": "markdown",
      "source": [
        "# Add epochs if desired"
      ],
      "metadata": {
        "id": "xKfCH__IMP0R"
      }
    },
    {
      "cell_type": "code",
      "source": [
        "criterion = nn.MSELoss()\n",
        "optimizer = optim.Adam(autoencoder.parameters(), lr=0.001)\n",
        "\n",
        "# Training loop\n",
        "num_epochs = 1\n",
        "for epoch in range(num_epochs):\n",
        "    running_loss = 0.0\n",
        "    for i in range(len(gray_arr)):\n",
        "        if (gray_tensors[i].size() != torch.Size([3, 128, 128])):\n",
        "          continue # turns out there are some non-square images (like maybe 5 or 10 total) in the original smallset dataset, and so they're here too... temporary fix\n",
        "\n",
        "        inputs = gray_tensors[i].unsqueeze(0)  # Add batch dimension\n",
        "        targets = color_tensors[i].unsqueeze(0)  # Add batch dimension\n",
        "\n",
        "        optimizer.zero_grad()\n",
        "        outputs = autoencoder(inputs)\n",
        "        loss = criterion(outputs, targets)\n",
        "        loss.backward()\n",
        "        optimizer.step()\n",
        "        running_loss += loss.item()\n",
        "\n",
        "    print('[%d] loss: %.3f' % (epoch + 1, running_loss / len(gray_arr)))\n",
        "\n",
        "print('Finished Training')"
      ],
      "metadata": {
        "id": "NeDpsh565caS",
        "outputId": "cbe0cfe3-a4a3-42fa-b7f3-8a15ad232d03",
        "colab": {
          "base_uri": "https://localhost:8080/"
        }
      },
      "execution_count": null,
      "outputs": [
        {
          "output_type": "stream",
          "name": "stdout",
          "text": [
            "[1] loss: 0.010\n",
            "Finished Training\n"
          ]
        }
      ]
    },
    {
      "cell_type": "markdown",
      "source": [
        "# 4. Push changes\n",
        "\n",
        "Look for any changes in the project directory, excluding this notebook, and push them.\n"
      ],
      "metadata": {
        "id": "UuwWuVpI7JOM"
      }
    },
    {
      "cell_type": "code",
      "source": [],
      "metadata": {
        "id": "ZRavBxLT3LEN"
      },
      "execution_count": null,
      "outputs": []
    },
    {
      "cell_type": "markdown",
      "source": [
        "# 5. Save notebook\n",
        "\n",
        "Commiting this notebook requires a special maneuver:\n",
        "\n",
        "> File > Save a copy in github > enter original `path` + new commit msg\n",
        "\n",
        "That's it!"
      ],
      "metadata": {
        "id": "l6r4vK-a9Tr4"
      }
    },
    {
      "cell_type": "code",
      "source": [],
      "metadata": {
        "id": "r7QEjIK898o5"
      },
      "execution_count": null,
      "outputs": []
    }
  ]
}